{
 "cells": [
  {
   "cell_type": "markdown",
   "metadata": {},
   "source": [
    "# CFU | Data Types"
   ]
  },
  {
   "cell_type": "markdown",
   "metadata": {},
   "source": [
    "## Working with Data Types"
   ]
  },
  {
   "cell_type": "markdown",
   "metadata": {},
   "source": [
    "Objective: Practice working with different data types and their corresponding operations."
   ]
  },
  {
   "cell_type": "markdown",
   "metadata": {},
   "source": [
    "### Exercise 1: Calculate remaining salary"
   ]
  },
  {
   "cell_type": "markdown",
   "metadata": {},
   "source": [
    "In this exercise, prompt the user to enter their personal information such as name, age, address, salary, and expenses, and then perform some calculations to determine how much money they have left after expenses. \n",
    "\n",
    "Use data type casting to ensure that the age, salary, and expenses are stored as integers or floats, as appropriate, and round the remaining money to one decimal. \n",
    "\n",
    "Use a boolean variable to indicate whether the remaining salary is greater than or equal to 500. \n",
    "\n",
    "Finally, you will use string formatting to print a message to the screen in the following format: \n",
    "\"*name*, who is *age* years old, and lives in *address* has *remaining_salary* dollars left from her salary after expenses. It is *is_salary_good* that she has more than $500 left.\", using the mentioned variables.\n",
    "\n",
    "*Hint:* \n",
    "- *You can use the input() function to ask the user to enter their information. Beware that input() function returns a String.*\n",
    "- *You can round the remaining salary to one decimal using the round() function.*\n",
    "- *Use data type conversion functions. Recommended external resources: [Data type conversion](https://www.geeksforgeeks.org/type-conversion-in-python/)*"
   ]
  },
  {
   "cell_type": "code",
   "execution_count": 34,
   "metadata": {},
   "outputs": [],
   "source": [
    "name = input(\"Input your name: \")\n",
    "age = int(input(\"Input your age: \"))\n",
    "address = input(\"Input your address: \")\n",
    "salary = float(input(\"Input your salary: \"))\n",
    "expenses = float(input(\"Input your expenses: \"))\n",
    "\n",
    "remaining_salary = round((salary - expenses),1)"
   ]
  },
  {
   "cell_type": "code",
   "execution_count": 35,
   "metadata": {},
   "outputs": [],
   "source": [
    "#Usea boolean variable to indicate whether the remaining salary is greater than or equal to 500. \n",
    "if remaining_salary >=  500 :\n",
    "    is_salary_good = True\n",
    "else:\n",
    "    is_salary_good = False"
   ]
  },
  {
   "cell_type": "code",
   "execution_count": 36,
   "metadata": {},
   "outputs": [
    {
     "name": "stdout",
     "output_type": "stream",
     "text": [
      "Bob, who is 23 years old, and lives in AdressX has 1109.2 dollars left from their salary after expenses. It is True that they have more than $500 left, using the mentioned variables.\n"
     ]
    }
   ],
   "source": [
    "#use string formatting to print a message to the screen in the following format: \n",
    "print(f\"{name}, who is {age} years old, and lives in {address} has {remaining_salary} dollars left from their salary after expenses. It is {is_salary_good} that they have more than $500 left, using the mentioned variables.\")"
   ]
  },
  {
   "cell_type": "markdown",
   "metadata": {},
   "source": [
    "\n",
    "### Exercise 2: Text Cleaning and Concatenation"
   ]
  },
  {
   "cell_type": "markdown",
   "metadata": {},
   "source": [
    "Write code that takes text from the variable `poem`, removes the punctuation and leaves everything in lowercase. \n",
    "\n",
    "Concatenate the resulting string with the string \"python is awesome!\" and store the result in a new variable. \n",
    "\n",
    "Print the length of the new string.\n",
    "\n",
    "Split the string into a list of strings using the space delimiter, save it in a variable `poem_list` and print it. \n",
    "\n",
    "*Hint:*\n",
    "\n",
    "- *You can use the len() function to get the length of a string.*\n",
    "- *Search string methods to accomplish the other steps. Recommended External Resources: [Python String Methods](https://www.w3schools.com/python/python_ref_string.asp)*\n",
    "- *Use method chaining to simplify your code. If you are not sure what it is, read this tutorial before: https://pyneng.readthedocs.io/en/latest/book/04_data_structures/method_chaining.html*\n"
   ]
  },
  {
   "cell_type": "code",
   "execution_count": 37,
   "metadata": {},
   "outputs": [],
   "source": [
    "poem = \"\"\"Some say the world will end in fire,\n",
    "Some say in ice.\n",
    "From what I’ve tasted of desire\n",
    "I hold with those who favor fire.\n",
    "But if it had to perish twice,\n",
    "I think I know enough of hate\n",
    "To say that for destruction ice\n",
    "Is also great\n",
    "And would suffice.\"\"\""
   ]
  },
  {
   "cell_type": "code",
   "execution_count": 38,
   "metadata": {},
   "outputs": [
    {
     "name": "stdout",
     "output_type": "stream",
     "text": [
      "some say the world will end in fire\n",
      "some say in ice\n",
      "from what i’ve tasted of desire\n",
      "i hold with those who favor fire\n",
      "but if it had to perish twice\n",
      "i think i know enough of hate\n",
      "to say that for destruction ice\n",
      "is also great\n",
      "and would suffice\n"
     ]
    }
   ],
   "source": [
    "# Your code here\n",
    "import string\n",
    "no_punctuation_poem = (''.join(char for char in poem if char not in string.punctuation)).lower()\n",
    "print(no_punctuation_poem)"
   ]
  },
  {
   "cell_type": "code",
   "execution_count": 39,
   "metadata": {},
   "outputs": [],
   "source": [
    "#concatenate strings\n",
    "string = \"python is awesome!\"\n",
    "concatenated_string = no_punctuation_poem + \" \" + string"
   ]
  },
  {
   "cell_type": "code",
   "execution_count": 40,
   "metadata": {},
   "outputs": [
    {
     "name": "stdout",
     "output_type": "stream",
     "text": [
      "259\n"
     ]
    }
   ],
   "source": [
    "#print string length\n",
    "print (len(concatenated_string))"
   ]
  },
  {
   "cell_type": "code",
   "execution_count": 41,
   "metadata": {},
   "outputs": [
    {
     "data": {
      "text/plain": [
       "['some',\n",
       " 'say',\n",
       " 'the',\n",
       " 'world',\n",
       " 'will',\n",
       " 'end',\n",
       " 'in',\n",
       " 'fire',\n",
       " 'some',\n",
       " 'say',\n",
       " 'in',\n",
       " 'ice',\n",
       " 'from',\n",
       " 'what',\n",
       " 'i’ve',\n",
       " 'tasted',\n",
       " 'of',\n",
       " 'desire',\n",
       " 'i',\n",
       " 'hold',\n",
       " 'with',\n",
       " 'those',\n",
       " 'who',\n",
       " 'favor',\n",
       " 'fire',\n",
       " 'but',\n",
       " 'if',\n",
       " 'it',\n",
       " 'had',\n",
       " 'to',\n",
       " 'perish',\n",
       " 'twice',\n",
       " 'i',\n",
       " 'think',\n",
       " 'i',\n",
       " 'know',\n",
       " 'enough',\n",
       " 'of',\n",
       " 'hate',\n",
       " 'to',\n",
       " 'say',\n",
       " 'that',\n",
       " 'for',\n",
       " 'destruction',\n",
       " 'ice',\n",
       " 'is',\n",
       " 'also',\n",
       " 'great',\n",
       " 'and',\n",
       " 'would',\n",
       " 'suffice',\n",
       " 'python',\n",
       " 'is',\n",
       " 'awesome!']"
      ]
     },
     "execution_count": 41,
     "metadata": {},
     "output_type": "execute_result"
    }
   ],
   "source": [
    "#Split the string into a list of strings using the space delimiter, save it in a variable `poem_list` and print it. \n",
    "list = concatenated_string.split()\n",
    "list"
   ]
  }
 ],
 "metadata": {
  "kernelspec": {
   "display_name": "Python 3 (ipykernel)",
   "language": "python",
   "name": "python3"
  },
  "language_info": {
   "codemirror_mode": {
    "name": "ipython",
    "version": 3
   },
   "file_extension": ".py",
   "mimetype": "text/x-python",
   "name": "python",
   "nbconvert_exporter": "python",
   "pygments_lexer": "ipython3",
   "version": "3.11.7"
  }
 },
 "nbformat": 4,
 "nbformat_minor": 4
}
